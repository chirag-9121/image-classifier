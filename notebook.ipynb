{
 "cells": [
  {
   "cell_type": "code",
   "execution_count": 6,
   "metadata": {},
   "outputs": [
    {
     "data": {
      "text/plain": [
       "True"
      ]
     },
     "execution_count": 6,
     "metadata": {},
     "output_type": "execute_result"
    }
   ],
   "source": [
    "# Importing required libraries\n",
    "\n",
    "import pandas as pd\n",
    "import tensorflow as tf\n",
    "import seaborn as sns\n",
    "import matplotlib.pyplot as plt\n",
    "from googleapiclient.discovery import build\n",
    "from google_auth_oauthlib.flow import InstalledAppFlow"
   ]
  },
  {
   "cell_type": "code",
   "execution_count": 15,
   "metadata": {},
   "outputs": [
    {
     "name": "stdout",
     "output_type": "stream",
     "text": [
      "Please visit this URL to authorize this application: https://accounts.google.com/o/oauth2/auth?response_type=code&client_id=29607992401-6von3opr8c2jt7b2pfrc36a07ijeth70.apps.googleusercontent.com&redirect_uri=http%3A%2F%2Flocalhost%3A62907%2F&scope=https%3A%2F%2Fwww.googleapis.com%2Fauth%2Fdrive.readonly&state=t3IDnewvaJDV6IqaA43xXZcVCh8SdD&access_type=offline\n"
     ]
    }
   ],
   "source": [
    "# Configuring the API\n",
    "\n",
    "scope = ['https://www.googleapis.com/auth/drive.readonly']\n",
    "credentials_path = 'credentials.json'\n",
    "\n",
    "# Requesting access from user\n",
    "flow = InstalledAppFlow.from_client_secrets_file(credentials_path, scopes=scope)\n",
    "creds = flow.run_local_server(port=0)\n",
    "\n",
    "# Building the service\n",
    "service = build('drive', 'v3', credentials=creds, cache_discovery=False)"
   ]
  },
  {
   "cell_type": "code",
   "execution_count": 22,
   "metadata": {},
   "outputs": [
    {
     "name": "stdout",
     "output_type": "stream",
     "text": [
      "'MLPR Images'\n",
      "Files:\n",
      "MLPR Images (1QGOx4H_bQHCdHmmOu2yt8mbmgqe8tMPq)\n"
     ]
    }
   ],
   "source": [
    "# Retrieving the files\n",
    "folder_name = \"'MLPR Images'\"\n",
    "print(folder_name)\n",
    "results = service.files().list(q=\"mimeType='application/vnd.google-apps.folder' and name={}\".format(folder_name), pageSize=10).execute()\n",
    "items = results.get('files', [])\n",
    "if items:\n",
    "    print('Files:')\n",
    "    for item in items:\n",
    "        print(f'{item[\"name\"]} ({item[\"id\"]})')\n",
    "else:\n",
    "    print('No files found.')"
   ]
  },
  {
   "cell_type": "code",
   "execution_count": null,
   "metadata": {},
   "outputs": [],
   "source": []
  }
 ],
 "metadata": {
  "kernelspec": {
   "display_name": "venv",
   "language": "python",
   "name": "python3"
  },
  "language_info": {
   "codemirror_mode": {
    "name": "ipython",
    "version": 3
   },
   "file_extension": ".py",
   "mimetype": "text/x-python",
   "name": "python",
   "nbconvert_exporter": "python",
   "pygments_lexer": "ipython3",
   "version": "3.11.1"
  },
  "orig_nbformat": 4
 },
 "nbformat": 4,
 "nbformat_minor": 2
}
